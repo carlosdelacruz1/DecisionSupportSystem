import pandas as pd
import tkinter as tk
from tkinter import ttk
import matplotlib.pyplot as plt
from sklearn.model_selection import train_test_split
from sklearn.ensemble import RandomForestRegressor
from sklearn.metrics import mean_squared_error

# Cargar datos de ventas
df = pd.read_csv('datos_ventas.csv')

# Dividir datos en conjunto de entrenamiento y prueba
X = df.drop('Ventas', axis=1)
y = df['Ventas']
X_train, X_test, y_train, y_test = train_test_split(X, y, test_size=0.2, random_state=42)

# Entrenar un modelo de regresión de bosque aleatorio
model = RandomForestRegressor(n_estimators=100, random_state=42)
model.fit(X_train, y_train)

# Crear una GUI con Tkinter
app = tk.Tk()
app.title('Sistema de Apoyo a la Toma de Decisiones')

# Agregar etiquetas y campos de entrada para las características
ttk.Label(app, text='Característica 1:').pack()
feature1_entry = ttk.Entry(app)
feature1_entry.pack()
ttk.Label(app, text='Característica 2:').pack()
feature2_entry = ttk.Entry(app)
feature2_entry.pack()

# Función para realizar una predicción y mostrar el resultado
def hacer_prediccion():
    feature1 = float(feature1_entry.get())
    feature2 = float(feature2_entry.get())
    input_data = pd.DataFrame({'Característica 1': [feature1], 'Característica 2': [feature2]})
    predicted_sales = model.predict(input_data)
    resultado_label.config(text=f'Predicción de Ventas: {predicted_sales[0]:.2f}')

# Botón para realizar la predicción
prediccion_button = ttk.Button(app, text='Realizar Predicción', command=hacer_prediccion)
prediccion_button.pack()

# Etiqueta para mostrar el resultado de la predicción
resultado_label = ttk.Label(app, text='')
resultado_label.pack()

# Función para generar un gráfico de dispersión de ventas reales vs. ventas predichas
def generar_grafico():
    predictions = model.predict(X_test)
    plt.scatter(y_test, predictions)
    plt.xlabel('Ventas reales')
    plt.ylabel('Ventas predichas')
    plt.title('Ventas reales vs. Ventas predichas')
    plt.show()

# Botón para generar el gráfico
grafico_button = ttk.Button(app, text='Generar Gráfico', command=generar_grafico)
grafico_button.pack()

# Función para exportar resultados a un archivo CSV
def exportar_resultados():
    resultados = pd.DataFrame({'Ventas Reales': y_test, 'Ventas Predichas': model.predict(X_test)})
    resultados.to_csv('resultados.csv', index=False)
    resultado_exportado_label.config(text='Resultados exportados a resultados.csv')

# Botón para exportar resultados
exportar_button = ttk.Button(app, text='Exportar Resultados', command=exportar_resultados)
exportar_button.pack()

# Etiqueta para mostrar el estado de la exportación de resultados
resultado_exportado_label = ttk.Label(app, text='')
resultado_exportado_label.pack()

app.mainloop()
