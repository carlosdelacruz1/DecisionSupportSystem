import csv

# Datos de ejemplo
datos_ventas = [
    ['Característica 1', 'Característica 2', 'Ventas'],
    [10, 20, 300],
    [15, 25, 400],
    [8, 15, 250],
    [12, 22, 350]
]

# Nombre del archivo CSV de salida
nombre_archivo = 'datos_ventas.csv'

# Escribir los datos en el archivo CSV
with open(nombre_archivo, mode='w', newline='') as archivo_csv:
    escritor_csv = csv.writer(archivo_csv)
    escritor_csv.writerows(datos_ventas)

print(f'Se ha creado el archivo {nombre_archivo} con datos de ventas ficticios.')
